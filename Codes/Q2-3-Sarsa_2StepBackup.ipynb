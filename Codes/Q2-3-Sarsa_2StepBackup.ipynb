{
 "cells": [
  {
   "cell_type": "code",
   "execution_count": 1,
   "id": "5b3dcc30",
   "metadata": {},
   "outputs": [],
   "source": [
    "from model import NSFrozenLake\n",
    "from amalearn.agent import AgentBase\n",
    "from draw_policy import draw_policy\n",
    "from plots import plot_total_episode_rewards, plot_regret\n",
    "from find_max_reward import find_max_reward\n",
    "\n",
    "import matplotlib.pyplot as plt\n",
    "import numpy as np\n",
    "\n",
    "from CONFIG import *\n",
    "EPISODES = 2000"
   ]
  },
  {
   "cell_type": "code",
   "execution_count": 2,
   "id": "e1d5f39c",
   "metadata": {},
   "outputs": [],
   "source": [
    "class Agent(AgentBase):\n",
    "    \n",
    "    def __init__(self, id, environment, discount, epsilon, alpha, actions, episodes=1000):\n",
    "        \n",
    "        self.environment = environment\n",
    "        self.i_limit, self.j_limit = 4, 4\n",
    "        self.actions = actions\n",
    "        self.epsilon = epsilon\n",
    "        self.start_epsilon = epsilon\n",
    "        self.alpha = alpha\n",
    "        self.discount = discount\n",
    "        self.episodes = episodes\n",
    "        \n",
    "        self.Q = {}\n",
    "        self.init_Q()\n",
    "        \n",
    "        self.b_policy = {}\n",
    "        self.target_policy = {}\n",
    "        self.update_policies()\n",
    "        \n",
    "        super(Agent, self).__init__(id, environment)\n",
    "        \n",
    "    def init_Q(self):\n",
    "        \n",
    "        for i in range(self.i_limit):\n",
    "            for j in range(self.j_limit):\n",
    "                for a in self.actions:\n",
    "                    if (i, j) == (3, 3):\n",
    "                        self.Q[((i, j), a)] = 0\n",
    "                    else:\n",
    "                        self.Q[((i, j), a)] = np.random.rand()\n",
    "        \n",
    "    def update_state_b_policy(self, state):\n",
    "        \n",
    "        state_qs = [self.Q[(state, a)] for a in self.actions]\n",
    "        max_q_idx = np.argmax(state_qs)\n",
    "        \n",
    "        self.b_policy[state] = np.zeros(len(self.actions))+(self.epsilon/len(self.actions))\n",
    "        self.b_policy[state][max_q_idx] += (1-self.epsilon)\n",
    "                    \n",
    "    def update_state_t_policy(self, state):\n",
    "        \n",
    "        state_qs = [self.Q[(state, a)] for a in self.actions]\n",
    "        max_q_idx = np.argmax(state_qs)\n",
    "        \n",
    "        self.target_policy[state] = np.zeros(len(self.actions))\n",
    "        self.target_policy[state][max_q_idx] = 1\n",
    "                    \n",
    "    def update_policies(self):\n",
    "        \n",
    "        for i in range(self.i_limit):\n",
    "            for j in range(self.j_limit):\n",
    "                self.update_state_b_policy((i, j))\n",
    "                self.update_state_t_policy((i, j))\n",
    "                    \n",
    "    def sarsa(self):\n",
    "        \n",
    "        total_rewards = []\n",
    "        for epoch in range(REPS):\n",
    "            \n",
    "            self.reset()\n",
    "            episode_rewards = []\n",
    "            for e in range(self.episodes):\n",
    "                \n",
    "                rewards = []\n",
    "                state = self.environment.reset()\n",
    "                action, next_state, reward, done = self.take_action(state)\n",
    "                while True:\n",
    "                    \n",
    "                    rewards.append(reward)\n",
    "                    next_action, next_next_state, next_reward, next_done = self.take_action(next_state)\n",
    "                    self.Q[(state, action)] += \\\n",
    "                        self.alpha*(reward+self.discount*self.Q[(next_state, next_action)]-self.Q[(state, action)])\n",
    "                    self.update_state_b_policy(state)\n",
    "                    state = next_state; action = next_action;\n",
    "            \n",
    "                    if done:\n",
    "                        break\n",
    "                        \n",
    "                    next_state = next_next_state; reward = next_reward; done = next_done;\n",
    "                       \n",
    "                episode_rewards.append(sum(rewards))\n",
    "                \n",
    "                if (e+1)%10 == 0:\n",
    "                    self.epsilon *= 0.99\n",
    "                    \n",
    "            self.environment.reset()\n",
    "            total_rewards.append(episode_rewards)\n",
    "            \n",
    "        return total_rewards\n",
    "            \n",
    "    def n_step_tree_backup(self, n):\n",
    "        \n",
    "        total_rewards = []\n",
    "        for epoch in range(REPS):\n",
    "            \n",
    "            self.reset()\n",
    "            episode_rewards = []\n",
    "            for e in range(self.episodes):\n",
    "                \n",
    "                state = self.environment.reset()\n",
    "                rewards, states, actions = [], [state], []\n",
    "                T = 10000\n",
    "                for t in range(T):\n",
    "                    if t < T:\n",
    "                        action, next_state, reward, done = self.take_action(states[-1])\n",
    "                        states.append(next_state); rewards.append(reward); actions.append(action)\n",
    "                        if done:\n",
    "                            T = t + 1\n",
    "                    th = t + 1 - n\n",
    "                    if th >= 0:\n",
    "                        if t + 1 >= T:\n",
    "                            g = rewards[T-1]\n",
    "                        else:\n",
    "                            backup = sum([self.b_policy[states[t+1]][a]*self.Q[(states[t+1], a)] for a in self.actions])\n",
    "                            g = rewards[t] + self.discount*backup\n",
    "                        for k in range(min(t, T-1), th+1, -1):\n",
    "                            backup = sum([self.b_policy[states[k]][a]*self.Q((states[k], a)) for a in self.actions is a != actions[k]])\n",
    "                            g = R[k-1]+self.discount*backup + self.discount*self.b_policy[state[k]][actions[k]]*g\n",
    "                            \n",
    "                        self.Q[(states[th], actions[th])] += self.alpha*(g - self.Q[(states[th], actions[th])])\n",
    "                        self.update_state_t_policy(states[th])\n",
    "                        self.update_state_b_policy(states[th])\n",
    "                        \n",
    "                    if th == T-1:\n",
    "                        break\n",
    "                   \n",
    "                episode_rewards.append(sum(rewards))\n",
    "                \n",
    "                if (e+1)%40 == 0:\n",
    "                    self.epsilon *= 0.99\n",
    "                    \n",
    "            self.environment.reset()\n",
    "            total_rewards.append(episode_rewards)\n",
    "            \n",
    "        return total_rewards\n",
    "        \n",
    "        \n",
    "    def take_action(self, state):\n",
    "        \n",
    "        action = np.random.choice(self.actions, p=self.b_policy[state])\n",
    "        next_state, reward, done, _ = self.environment.step(action)\n",
    "        \n",
    "        return action, next_state, reward, done\n",
    "    \n",
    "    def reset(self):\n",
    "        \n",
    "        self.init_Q()\n",
    "        self.update_policies()\n",
    "        self.epsilon = self.start_epsilon"
   ]
  },
  {
   "cell_type": "code",
   "execution_count": 3,
   "id": "b1337c3b",
   "metadata": {},
   "outputs": [],
   "source": [
    "environment = NSFrozenLake(studentNum=STUDENT_NUM)"
   ]
  },
  {
   "cell_type": "code",
   "execution_count": 4,
   "id": "9ce58b43",
   "metadata": {},
   "outputs": [],
   "source": [
    "max_expected_reward = find_max_reward(environment)"
   ]
  },
  {
   "cell_type": "code",
   "execution_count": 5,
   "id": "dcc4a08e",
   "metadata": {},
   "outputs": [],
   "source": [
    "agent = Agent('1', environment, DISCOUNT, EPSILON, LEARNING_RATE, ACTIONS, episodes=EPISODES)\n",
    "rewards1 = agent.sarsa()"
   ]
  },
  {
   "cell_type": "code",
   "execution_count": 6,
   "id": "0a71528f",
   "metadata": {},
   "outputs": [
    {
     "name": "stdout",
     "output_type": "stream",
     "text": [
      "\n",
      "------------------------------\n",
      "| \u001b[44m0.000\u001b[0m | 0.001 | 0.332 | 0.746 | \n",
      "------------------------------\n",
      "| 0.696 | 0.001 | 0.143 | 0.998 | \n",
      "------------------------------\n",
      "| 0.703 | 0.001 | 0.001 | 0.001 | \n",
      "------------------------------\n",
      "| 0.861 | 0.401 | 0.128 | 0.000 | \n",
      "------------------------------\n",
      "→|↓|←|←\n",
      "→|↓|←|↓\n",
      "→|→|↓|↓\n",
      "→|→|→|↻\n"
     ]
    }
   ],
   "source": [
    "environment.render()\n",
    "draw_policy(agent.b_policy)"
   ]
  },
  {
   "cell_type": "code",
   "execution_count": 7,
   "id": "b4a81cc0",
   "metadata": {},
   "outputs": [],
   "source": [
    "agent = Agent('1', environment, DISCOUNT, EPSILON, LEARNING_RATE, ACTIONS, episodes=EPISODES)\n",
    "rewards2 = agent.n_step_tree_backup(2)"
   ]
  },
  {
   "cell_type": "code",
   "execution_count": 8,
   "id": "f5bab4f1",
   "metadata": {},
   "outputs": [
    {
     "name": "stdout",
     "output_type": "stream",
     "text": [
      "\n",
      "------------------------------\n",
      "| \u001b[44m0.000\u001b[0m | 0.001 | 0.332 | 0.746 | \n",
      "------------------------------\n",
      "| 0.696 | 0.001 | 0.143 | 0.998 | \n",
      "------------------------------\n",
      "| 0.703 | 0.001 | 0.001 | 0.001 | \n",
      "------------------------------\n",
      "| 0.861 | 0.401 | 0.128 | 0.000 | \n",
      "------------------------------\n",
      "→|↓|↓|←\n",
      "→|↓|↓|↑\n",
      "→|→|→|↓\n",
      "↑|↑|↑|↻\n"
     ]
    }
   ],
   "source": [
    "environment.render()\n",
    "draw_policy(agent.b_policy)"
   ]
  },
  {
   "cell_type": "code",
   "execution_count": 9,
   "id": "1065080f",
   "metadata": {},
   "outputs": [
    {
     "data": {
      "image/png": "[encoded data removed]",
      "text/plain": [
       "<Figure size 432x288 with 1 Axes>"
      ]
     },
     "metadata": {
      "needs_background": "light"
     },
     "output_type": "display_data"
    },
    {
     "data": {
      "image/png": "[encoded data removed]",
      "text/plain": [
       "<Figure size 432x288 with 1 Axes>"
      ]
     },
     "metadata": {
      "needs_background": "light"
     },
     "output_type": "display_data"
    }
   ],
   "source": [
    "plot_total_episode_rewards(\n",
    "    rewards1, rewards2, max_expected_reward, \n",
    "    'SARSA', '2-step tree backup', window_size=50\n",
    ")\n",
    "plot_regret(rewards1, rewards2, max_expected_reward, 'SARSA', '2-step tree backup')"
   ]
  },
  {
   "cell_type": "code",
   "execution_count": null,
   "id": "344c9f17",
   "metadata": {},
   "outputs": [],
   "source": []
  },
  {
   "cell_type": "code",
   "execution_count": null,
   "id": "d994e4fc",
   "metadata": {},
   "outputs": [],
   "source": []
  }
 ],
 "metadata": {
  "kernelspec": {
   "display_name": "Python 3 (ipykernel)",
   "language": "python",
   "name": "python3"
  },
  "language_info": {
   "codemirror_mode": {
    "name": "ipython",
    "version": 3
   },
   "file_extension": ".py",
   "mimetype": "text/x-python",
   "name": "python",
   "nbconvert_exporter": "python",
   "pygments_lexer": "ipython3",
   "version": "3.8.10"
  }
 },
 "nbformat": 4,
 "nbformat_minor": 5
}
