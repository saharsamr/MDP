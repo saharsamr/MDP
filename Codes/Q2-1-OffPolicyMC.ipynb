{
 "cells": [
  {
   "cell_type": "code",
   "execution_count": 1,
   "id": "1b343a03",
   "metadata": {},
   "outputs": [],
   "source": [
    "from model import NSFrozenLake\n",
    "from amalearn.agent import AgentBase\n",
    "from draw_policy import draw_policy\n",
    "from plots import plot_total_episode_rewards, plot_regret\n",
    "from find_max_reward import find_max_reward\n",
    "\n",
    "import matplotlib.pyplot as plt\n",
    "import numpy as np\n",
    "\n",
    "from CONFIG import *"
   ]
  },
  {
   "cell_type": "code",
   "execution_count": 2,
   "id": "4ae3619b",
   "metadata": {},
   "outputs": [],
   "source": [
    "class Agent(AgentBase):\n",
    "    \n",
    "    def __init__(self, id, environment, discount, epsilon, actions, episodes=1000, decade_epsilon=False):\n",
    "        \n",
    "        self.environment = environment\n",
    "        self.i_limit, self.j_limit = 4, 4\n",
    "        self.actions = actions\n",
    "        self.epsilon = epsilon\n",
    "        self.start_epsilon = epsilon\n",
    "        self.decade_epsilon = decade_epsilon\n",
    "        self.discount = discount\n",
    "        self.episodes = episodes\n",
    "        \n",
    "        self.Q = {}\n",
    "        self.C = {}\n",
    "        self.init_Q_C()\n",
    "        \n",
    "        self.target_policy = {}\n",
    "        self.b_policy = {}\n",
    "        self.update_policies()\n",
    "        \n",
    "        super(Agent, self).__init__(id, environment)\n",
    "        \n",
    "    def init_Q_C(self):\n",
    "        \n",
    "        for i in range(self.i_limit):\n",
    "            for j in range(self.j_limit):\n",
    "                for a in self.actions:\n",
    "                    self.Q[((i, j), a)] = np.random.rand()\n",
    "                    self.C[((i, j), a)] = 0\n",
    "                    \n",
    "    def update_state_t_policy(self, state):\n",
    "        \n",
    "        state_qs = [self.Q[(state, a)] for a in self.actions]\n",
    "        max_q_idx = np.argmax(state_qs)\n",
    "        \n",
    "        self.target_policy[state] = np.zeros(len(self.actions))\n",
    "        self.target_policy[state][max_q_idx] = 1\n",
    "        \n",
    "    def update_state_b_policy(self, state):\n",
    "        \n",
    "        state_qs = [self.Q[(state, a)] for a in self.actions]\n",
    "        max_q_idx = np.argmax(state_qs)\n",
    "        \n",
    "        self.b_policy[state] = np.zeros(len(self.actions))+(self.epsilon/len(self.actions))\n",
    "        self.b_policy[state][max_q_idx] += (1-self.epsilon)\n",
    "                    \n",
    "    def update_policies(self):\n",
    "        \n",
    "        for i in range(self.i_limit):\n",
    "            for j in range(self.j_limit):\n",
    "                self.update_state_t_policy((i, j))\n",
    "                self.update_state_b_policy((i, j))\n",
    "                        \n",
    "    def generate_episode(self):\n",
    "        \n",
    "        state = self.environment.reset()\n",
    "        states, actions, rewards = [state], [], []\n",
    "        while True:\n",
    "            \n",
    "            action, next_state, reward, done = self.take_action(state)\n",
    "            actions.append(action); rewards.append(reward);\n",
    "            \n",
    "            if done:\n",
    "                states.reverse(); actions.reverse(); rewards.reverse();\n",
    "                return states, actions, rewards\n",
    "            \n",
    "            states.append(next_state)\n",
    "            state = next_state\n",
    "                    \n",
    "    def off_policy_mc(self):\n",
    "        \n",
    "        total_rewards = []\n",
    "        for epoch in range(REPS):\n",
    "            \n",
    "            self.reset()\n",
    "            episode_rewards = []\n",
    "            for e in range(self.episodes):\n",
    "                \n",
    "                self.update_policies()\n",
    "                states, actions, rewards = self.generate_episode()\n",
    "                \n",
    "                g, w = 0, 1\n",
    "                for s, a, r in zip(states, actions, rewards):\n",
    "                    \n",
    "                    g += self.discount*g + r\n",
    "                    self.C[(s, a)] += w\n",
    "                    self.Q[(s, a)] += (w/self.C[(s, a)])*(g-self.Q[(s, a)])\n",
    "                    self.update_state_t_policy(s)\n",
    "                    \n",
    "                    if a != np.argmax(self.target_policy[s]):\n",
    "                        break\n",
    "                        \n",
    "                    w *= 1/self.b_policy[s][a]\n",
    "                    \n",
    "                episode_rewards.append(sum(rewards))\n",
    "                \n",
    "                if self.decade_epsilon and (e+1)%20 == 0:\n",
    "                    self.epsilon *= 0.99\n",
    "                    \n",
    "            self.environment.reset()\n",
    "            total_rewards.append(episode_rewards)\n",
    "            \n",
    "        return total_rewards\n",
    "        \n",
    "    def take_action(self, state):\n",
    "        \n",
    "        action = np.random.choice(self.actions, p=self.b_policy[state])\n",
    "        next_state, reward, done, _ = self.environment.step(action)\n",
    "        \n",
    "        return action, next_state, reward, done\n",
    "    \n",
    "    def reset(self):\n",
    "        \n",
    "        self.environment.reset()\n",
    "        self.init_Q_C()\n",
    "        self.update_policies()\n",
    "        self.epsilon = self.start_epsilon"
   ]
  },
  {
   "cell_type": "code",
   "execution_count": 3,
   "id": "9acd8eb8",
   "metadata": {},
   "outputs": [],
   "source": [
    "environment = NSFrozenLake(studentNum=STUDENT_NUM)\n",
    "max_expected_reward = find_max_reward(environment)"
   ]
  },
  {
   "cell_type": "code",
   "execution_count": 4,
   "id": "eb23510d",
   "metadata": {},
   "outputs": [],
   "source": [
    "agent = Agent('1', environment, DISCOUNT, EPSILON, ACTIONS, episodes=EPISODES)\n",
    "rewards1 = agent.off_policy_mc()"
   ]
  },
  {
   "cell_type": "code",
   "execution_count": 5,
   "id": "8fb6127e",
   "metadata": {},
   "outputs": [
    {
     "name": "stdout",
     "output_type": "stream",
     "text": [
      "\n",
      "------------------------------\n",
      "| \u001b[44m0.000\u001b[0m | 0.001 | 0.332 | 0.746 | \n",
      "------------------------------\n",
      "| 0.696 | 0.001 | 0.143 | 0.998 | \n",
      "------------------------------\n",
      "| 0.703 | 0.001 | 0.001 | 0.001 | \n",
      "------------------------------\n",
      "| 0.861 | 0.401 | 0.128 | 0.000 | \n",
      "------------------------------\n",
      "↓|→|→|→\n",
      "→|↓|→|↑\n",
      "↓|→|→|→\n",
      "←|→|→|↻\n"
     ]
    }
   ],
   "source": [
    "environment.render()\n",
    "draw_policy(agent.target_policy)"
   ]
  },
  {
   "cell_type": "code",
   "execution_count": 6,
   "id": "23b38a52",
   "metadata": {},
   "outputs": [],
   "source": [
    "agent = Agent('1', environment, DISCOUNT, EPSILON, ACTIONS, episodes=EPISODES, decade_epsilon=True)\n",
    "rewards2 = agent.off_policy_mc()"
   ]
  },
  {
   "cell_type": "code",
   "execution_count": 7,
   "id": "7251d127",
   "metadata": {},
   "outputs": [
    {
     "name": "stdout",
     "output_type": "stream",
     "text": [
      "\n",
      "------------------------------\n",
      "| \u001b[44m0.000\u001b[0m | 0.001 | 0.332 | 0.746 | \n",
      "------------------------------\n",
      "| 0.696 | 0.001 | 0.143 | 0.998 | \n",
      "------------------------------\n",
      "| 0.703 | 0.001 | 0.001 | 0.001 | \n",
      "------------------------------\n",
      "| 0.861 | 0.401 | 0.128 | 0.000 | \n",
      "------------------------------\n",
      "→|↓|←|→\n",
      "↓|↓|↑|↑\n",
      "↓|→|↓|↑\n",
      "↓|←|→|↻\n"
     ]
    }
   ],
   "source": [
    "environment.render()\n",
    "draw_policy(agent.target_policy)"
   ]
  },
  {
   "cell_type": "code",
   "execution_count": 8,
   "id": "b296050f",
   "metadata": {},
   "outputs": [
    {
     "data": {
      "image/png": "[encoded data removed]",
      "text/plain": [
       "<Figure size 432x288 with 1 Axes>"
      ]
     },
     "metadata": {
      "needs_background": "light"
     },
     "output_type": "display_data"
    },
    {
     "data": {
      "image/png": "[encoded data removed]",
      "text/plain": [
       "<Figure size 432x288 with 1 Axes>"
      ]
     },
     "metadata": {
      "needs_background": "light"
     },
     "output_type": "display_data"
    }
   ],
   "source": [
    "plot_total_episode_rewards(rewards1, rewards2, max_expected_reward, 'constant epsilon', 'decreasing epsilon', window_size=50)\n",
    "plot_regret(rewards1, rewards2, max_expected_reward, 'constant epsilon', 'decreasing epsilon')"
   ]
  },
  {
   "cell_type": "code",
   "execution_count": null,
   "id": "9cae6605",
   "metadata": {},
   "outputs": [],
   "source": []
  }
 ],
 "metadata": {
  "kernelspec": {
   "display_name": "Python 3 (ipykernel)",
   "language": "python",
   "name": "python3"
  },
  "language_info": {
   "codemirror_mode": {
    "name": "ipython",
    "version": 3
   },
   "file_extension": ".py",
   "mimetype": "text/x-python",
   "name": "python",
   "nbconvert_exporter": "python",
   "pygments_lexer": "ipython3",
   "version": "3.8.10"
  }
 },
 "nbformat": 4,
 "nbformat_minor": 5
}
